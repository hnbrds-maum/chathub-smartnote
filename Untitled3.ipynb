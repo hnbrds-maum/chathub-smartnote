{
 "cells": [
  {
   "cell_type": "code",
   "execution_count": 1,
   "id": "a503c470-4826-41d4-aa94-31415069baaa",
   "metadata": {},
   "outputs": [
    {
     "name": "stderr",
     "output_type": "stream",
     "text": [
      "/Users/jysung/Projects/chathub-database/.venv/lib/python3.13/site-packages/tqdm/auto.py:21: TqdmWarning: IProgress not found. Please update jupyter and ipywidgets. See https://ipywidgets.readthedocs.io/en/stable/user_install.html\n",
      "  from .autonotebook import tqdm as notebook_tqdm\n"
     ]
    },
    {
     "data": {
      "text/plain": [
       "True"
      ]
     },
     "execution_count": 1,
     "metadata": {},
     "output_type": "execute_result"
    }
   ],
   "source": [
    "import os\n",
    "from dotenv import load_dotenv\n",
    "from langchain_openai import ChatOpenAI\n",
    "from agents.rag_agent import RagAgent\n",
    "from agents.summary_agent import SummaryAgent\n",
    "from database.retriever import Retriever\n",
    "from database.document_parser import DocumentParser\n",
    "\n",
    "load_dotenv(\"./.env\")"
   ]
  },
  {
   "cell_type": "raw",
   "id": "9740fd4f-6bae-45b2-b534-73fd642f5435",
   "metadata": {},
   "source": [
    "#### llm = ChatOpenAI(model=\"gpt-4.1\")\n",
    "index_paths = [\"./vectorstore/8c81af3df9244445b950b7bcde1a1f47\"]"
   ]
  },
  {
   "cell_type": "raw",
   "id": "3ded9627-bef5-4bba-8c9e-8b8818cc78d1",
   "metadata": {},
   "source": [
    "result = await RagAgent(llm, index_paths).async_run(\"비밀 보관 순서\")\n",
    "result"
   ]
  },
  {
   "cell_type": "code",
   "execution_count": 5,
   "id": "67cc1634-9c1c-45e7-9146-6b49dee92161",
   "metadata": {},
   "outputs": [],
   "source": [
    "docparaser = DocumentParser('tmp/헤이헤이헤이.pdf')"
   ]
  },
  {
   "cell_type": "code",
   "execution_count": 6,
   "id": "4a64c95f-86da-4a69-950e-378ef6ae4712",
   "metadata": {},
   "outputs": [],
   "source": [
    "markdown = docparaser.get_markdown()"
   ]
  },
  {
   "cell_type": "code",
   "execution_count": 7,
   "id": "e61c1f07-221b-4849-9d53-4d8963f36e5c",
   "metadata": {},
   "outputs": [
    {
     "data": {
      "text/plain": [
       "[]"
      ]
     },
     "execution_count": 7,
     "metadata": {},
     "output_type": "execute_result"
    }
   ],
   "source": []
  },
  {
   "cell_type": "raw",
   "id": "5de61398-1c9f-40fc-abcb-519fe6765fa7",
   "metadata": {},
   "source": [
    "SummaryAgent(llm).run([x.content for x in markdown])"
   ]
  },
  {
   "cell_type": "code",
   "execution_count": 10,
   "id": "058d6856-8b03-430d-a739-585edba0da6d",
   "metadata": {},
   "outputs": [],
   "source": [
    "from google.rpc import code_pb2"
   ]
  },
  {
   "cell_type": "code",
   "execution_count": 11,
   "id": "f4ef7887-6dbb-4e5e-b85c-b9593ea0959d",
   "metadata": {},
   "outputs": [
    {
     "data": {
      "text/plain": [
       "0"
      ]
     },
     "execution_count": 11,
     "metadata": {},
     "output_type": "execute_result"
    }
   ],
   "source": [
    "int(code_pb2.OK)"
   ]
  },
  {
   "cell_type": "code",
   "execution_count": 12,
   "id": "bb2d53f4-c73d-4b88-89f3-cc808071b7e2",
   "metadata": {},
   "outputs": [
    {
     "data": {
      "text/plain": [
       "10"
      ]
     },
     "execution_count": 12,
     "metadata": {},
     "output_type": "execute_result"
    }
   ],
   "source": [
    "int(code_pb2.ABORTED)"
   ]
  },
  {
   "cell_type": "code",
   "execution_count": null,
   "id": "4b822202-dec2-4710-a4ee-37f262c2344c",
   "metadata": {},
   "outputs": [],
   "source": []
  }
 ],
 "metadata": {
  "kernelspec": {
   "display_name": "rag(3.12)",
   "language": "python",
   "name": "rag"
  },
  "language_info": {
   "codemirror_mode": {
    "name": "ipython",
    "version": 3
   },
   "file_extension": ".py",
   "mimetype": "text/x-python",
   "name": "python",
   "nbconvert_exporter": "python",
   "pygments_lexer": "ipython3",
   "version": "3.13.2"
  }
 },
 "nbformat": 4,
 "nbformat_minor": 5
}
